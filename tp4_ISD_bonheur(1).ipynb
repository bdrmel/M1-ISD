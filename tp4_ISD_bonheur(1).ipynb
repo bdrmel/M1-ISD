{
 "cells": [
  {
   "cell_type": "markdown",
   "metadata": {
    "colab_type": "text",
    "id": "Th6KMiyZfOd1"
   },
   "source": [
    "# Introduction à la Science de Données\n",
    "# TP4 - Clustering et visualisation\n",
    "\n",
    "Ce TP s'intéresse au clustering. Les données viennent d'une compétition kaggle sur le [niveau de bonheur dans le monde](https://www.kaggle.com/unsdsn/world-happiness) (si, si, ...)\n",
    "\n",
    "## Indice de Bonheur\n",
    "Dans un premier temps, il faut récupérer les données stockées dans le fichier \"bonheur.csv\". Comme d'habitude, on commence par regarder les données et leur description statistique :"
   ]
  },
  {
   "cell_type": "code",
   "execution_count": 1,
   "metadata": {
    "colab": {
     "base_uri": "https://localhost:8080/",
     "height": 320
    },
    "colab_type": "code",
    "id": "w5v_kpBbfOeL",
    "outputId": "eb614ed9-dc54-4592-82df-09c588efee00"
   },
   "outputs": [
    {
     "data": {
      "text/html": [
       "<div>\n",
       "<style scoped>\n",
       "    .dataframe tbody tr th:only-of-type {\n",
       "        vertical-align: middle;\n",
       "    }\n",
       "\n",
       "    .dataframe tbody tr th {\n",
       "        vertical-align: top;\n",
       "    }\n",
       "\n",
       "    .dataframe thead th {\n",
       "        text-align: right;\n",
       "    }\n",
       "</style>\n",
       "<table border=\"1\" class=\"dataframe\">\n",
       "  <thead>\n",
       "    <tr style=\"text-align: right;\">\n",
       "      <th></th>\n",
       "      <th>Happiness.Rank</th>\n",
       "      <th>Happiness.Score</th>\n",
       "      <th>Whisker.high</th>\n",
       "      <th>Whisker.low</th>\n",
       "      <th>Economy..GDP.per.Capita.</th>\n",
       "      <th>Family</th>\n",
       "      <th>Health..Life.Expectancy.</th>\n",
       "      <th>Freedom</th>\n",
       "      <th>Generosity</th>\n",
       "      <th>Trust..Government.Corruption.</th>\n",
       "      <th>Dystopia.Residual</th>\n",
       "    </tr>\n",
       "  </thead>\n",
       "  <tbody>\n",
       "    <tr>\n",
       "      <th>count</th>\n",
       "      <td>155.000000</td>\n",
       "      <td>155.000000</td>\n",
       "      <td>155.000000</td>\n",
       "      <td>155.000000</td>\n",
       "      <td>155.000000</td>\n",
       "      <td>155.000000</td>\n",
       "      <td>155.000000</td>\n",
       "      <td>155.000000</td>\n",
       "      <td>155.000000</td>\n",
       "      <td>155.000000</td>\n",
       "      <td>155.000000</td>\n",
       "    </tr>\n",
       "    <tr>\n",
       "      <th>mean</th>\n",
       "      <td>78.000000</td>\n",
       "      <td>5.354019</td>\n",
       "      <td>5.452326</td>\n",
       "      <td>5.255713</td>\n",
       "      <td>0.984718</td>\n",
       "      <td>1.188898</td>\n",
       "      <td>0.551341</td>\n",
       "      <td>0.408786</td>\n",
       "      <td>0.246883</td>\n",
       "      <td>0.123120</td>\n",
       "      <td>1.850238</td>\n",
       "    </tr>\n",
       "    <tr>\n",
       "      <th>std</th>\n",
       "      <td>44.888751</td>\n",
       "      <td>1.131230</td>\n",
       "      <td>1.118542</td>\n",
       "      <td>1.145030</td>\n",
       "      <td>0.420793</td>\n",
       "      <td>0.287263</td>\n",
       "      <td>0.237073</td>\n",
       "      <td>0.149997</td>\n",
       "      <td>0.134780</td>\n",
       "      <td>0.101661</td>\n",
       "      <td>0.500028</td>\n",
       "    </tr>\n",
       "    <tr>\n",
       "      <th>min</th>\n",
       "      <td>1.000000</td>\n",
       "      <td>2.693000</td>\n",
       "      <td>2.864884</td>\n",
       "      <td>2.521116</td>\n",
       "      <td>0.000000</td>\n",
       "      <td>0.000000</td>\n",
       "      <td>0.000000</td>\n",
       "      <td>0.000000</td>\n",
       "      <td>0.000000</td>\n",
       "      <td>0.000000</td>\n",
       "      <td>0.377914</td>\n",
       "    </tr>\n",
       "    <tr>\n",
       "      <th>25%</th>\n",
       "      <td>39.500000</td>\n",
       "      <td>4.505500</td>\n",
       "      <td>4.608172</td>\n",
       "      <td>4.374955</td>\n",
       "      <td>0.663371</td>\n",
       "      <td>1.042635</td>\n",
       "      <td>0.369866</td>\n",
       "      <td>0.303677</td>\n",
       "      <td>0.154106</td>\n",
       "      <td>0.057271</td>\n",
       "      <td>1.591291</td>\n",
       "    </tr>\n",
       "    <tr>\n",
       "      <th>50%</th>\n",
       "      <td>78.000000</td>\n",
       "      <td>5.279000</td>\n",
       "      <td>5.370032</td>\n",
       "      <td>5.193152</td>\n",
       "      <td>1.064578</td>\n",
       "      <td>1.253918</td>\n",
       "      <td>0.606042</td>\n",
       "      <td>0.437454</td>\n",
       "      <td>0.231538</td>\n",
       "      <td>0.089848</td>\n",
       "      <td>1.832910</td>\n",
       "    </tr>\n",
       "    <tr>\n",
       "      <th>75%</th>\n",
       "      <td>116.500000</td>\n",
       "      <td>6.101500</td>\n",
       "      <td>6.194600</td>\n",
       "      <td>6.006527</td>\n",
       "      <td>1.318027</td>\n",
       "      <td>1.414316</td>\n",
       "      <td>0.723008</td>\n",
       "      <td>0.516561</td>\n",
       "      <td>0.323762</td>\n",
       "      <td>0.153296</td>\n",
       "      <td>2.144654</td>\n",
       "    </tr>\n",
       "    <tr>\n",
       "      <th>max</th>\n",
       "      <td>155.000000</td>\n",
       "      <td>7.537000</td>\n",
       "      <td>7.622030</td>\n",
       "      <td>7.479556</td>\n",
       "      <td>1.870766</td>\n",
       "      <td>1.610574</td>\n",
       "      <td>0.949492</td>\n",
       "      <td>0.658249</td>\n",
       "      <td>0.838075</td>\n",
       "      <td>0.464308</td>\n",
       "      <td>3.117485</td>\n",
       "    </tr>\n",
       "  </tbody>\n",
       "</table>\n",
       "</div>"
      ],
      "text/plain": [
       "       Happiness.Rank  Happiness.Score  Whisker.high  Whisker.low  \\\n",
       "count      155.000000       155.000000    155.000000   155.000000   \n",
       "mean        78.000000         5.354019      5.452326     5.255713   \n",
       "std         44.888751         1.131230      1.118542     1.145030   \n",
       "min          1.000000         2.693000      2.864884     2.521116   \n",
       "25%         39.500000         4.505500      4.608172     4.374955   \n",
       "50%         78.000000         5.279000      5.370032     5.193152   \n",
       "75%        116.500000         6.101500      6.194600     6.006527   \n",
       "max        155.000000         7.537000      7.622030     7.479556   \n",
       "\n",
       "       Economy..GDP.per.Capita.      Family  Health..Life.Expectancy.  \\\n",
       "count                155.000000  155.000000                155.000000   \n",
       "mean                   0.984718    1.188898                  0.551341   \n",
       "std                    0.420793    0.287263                  0.237073   \n",
       "min                    0.000000    0.000000                  0.000000   \n",
       "25%                    0.663371    1.042635                  0.369866   \n",
       "50%                    1.064578    1.253918                  0.606042   \n",
       "75%                    1.318027    1.414316                  0.723008   \n",
       "max                    1.870766    1.610574                  0.949492   \n",
       "\n",
       "          Freedom  Generosity  Trust..Government.Corruption.  \\\n",
       "count  155.000000  155.000000                     155.000000   \n",
       "mean     0.408786    0.246883                       0.123120   \n",
       "std      0.149997    0.134780                       0.101661   \n",
       "min      0.000000    0.000000                       0.000000   \n",
       "25%      0.303677    0.154106                       0.057271   \n",
       "50%      0.437454    0.231538                       0.089848   \n",
       "75%      0.516561    0.323762                       0.153296   \n",
       "max      0.658249    0.838075                       0.464308   \n",
       "\n",
       "       Dystopia.Residual  \n",
       "count         155.000000  \n",
       "mean            1.850238  \n",
       "std             0.500028  \n",
       "min             0.377914  \n",
       "25%             1.591291  \n",
       "50%             1.832910  \n",
       "75%             2.144654  \n",
       "max             3.117485  "
      ]
     },
     "execution_count": 1,
     "metadata": {},
     "output_type": "execute_result"
    }
   ],
   "source": [
    "import pandas as pd\n",
    "donnees = pd.read_csv(\"bonheur.csv\")\n",
    "donnees.describe()"
   ]
  },
  {
   "cell_type": "markdown",
   "metadata": {
    "colab_type": "text",
    "id": "qjiCDDEsfOeU"
   },
   "source": [
    "Le but initial de cette compétition était de prédire le *score de bonheur* (colonne *Happiness.Score*) en fonction des autres (sauf celle du *classement de bonheur*, *Happiness.Rank*).\n",
    "\n",
    "Nous allons prendre une approche différente et travailler à regrouper les données en clusters et voir quelle information en tirer.\n",
    "\n",
    "La première chose à faire est de créer une variable $Clean$ qui ne contient que les colonnes utiles.\n",
    "\n",
    "**Question.** Supprimer les colonnes *Happiness.Rank*, *Whisker.high*, et *Whisker.low* et stocker le résultat dans une dataframe s'appellant *Clean*."
   ]
  },
  {
   "cell_type": "code",
   "execution_count": 2,
   "metadata": {
    "colab": {},
    "colab_type": "code",
    "id": "ErxO6TI8fOeW"
   },
   "outputs": [
    {
     "data": {
      "text/html": [
       "<div>\n",
       "<style scoped>\n",
       "    .dataframe tbody tr th:only-of-type {\n",
       "        vertical-align: middle;\n",
       "    }\n",
       "\n",
       "    .dataframe tbody tr th {\n",
       "        vertical-align: top;\n",
       "    }\n",
       "\n",
       "    .dataframe thead th {\n",
       "        text-align: right;\n",
       "    }\n",
       "</style>\n",
       "<table border=\"1\" class=\"dataframe\">\n",
       "  <thead>\n",
       "    <tr style=\"text-align: right;\">\n",
       "      <th></th>\n",
       "      <th>Happiness.Score</th>\n",
       "      <th>Economy..GDP.per.Capita.</th>\n",
       "      <th>Family</th>\n",
       "      <th>Health..Life.Expectancy.</th>\n",
       "      <th>Freedom</th>\n",
       "      <th>Generosity</th>\n",
       "      <th>Trust..Government.Corruption.</th>\n",
       "      <th>Dystopia.Residual</th>\n",
       "    </tr>\n",
       "  </thead>\n",
       "  <tbody>\n",
       "    <tr>\n",
       "      <th>count</th>\n",
       "      <td>155.000000</td>\n",
       "      <td>155.000000</td>\n",
       "      <td>155.000000</td>\n",
       "      <td>155.000000</td>\n",
       "      <td>155.000000</td>\n",
       "      <td>155.000000</td>\n",
       "      <td>155.000000</td>\n",
       "      <td>155.000000</td>\n",
       "    </tr>\n",
       "    <tr>\n",
       "      <th>mean</th>\n",
       "      <td>5.354019</td>\n",
       "      <td>0.984718</td>\n",
       "      <td>1.188898</td>\n",
       "      <td>0.551341</td>\n",
       "      <td>0.408786</td>\n",
       "      <td>0.246883</td>\n",
       "      <td>0.123120</td>\n",
       "      <td>1.850238</td>\n",
       "    </tr>\n",
       "    <tr>\n",
       "      <th>std</th>\n",
       "      <td>1.131230</td>\n",
       "      <td>0.420793</td>\n",
       "      <td>0.287263</td>\n",
       "      <td>0.237073</td>\n",
       "      <td>0.149997</td>\n",
       "      <td>0.134780</td>\n",
       "      <td>0.101661</td>\n",
       "      <td>0.500028</td>\n",
       "    </tr>\n",
       "    <tr>\n",
       "      <th>min</th>\n",
       "      <td>2.693000</td>\n",
       "      <td>0.000000</td>\n",
       "      <td>0.000000</td>\n",
       "      <td>0.000000</td>\n",
       "      <td>0.000000</td>\n",
       "      <td>0.000000</td>\n",
       "      <td>0.000000</td>\n",
       "      <td>0.377914</td>\n",
       "    </tr>\n",
       "    <tr>\n",
       "      <th>25%</th>\n",
       "      <td>4.505500</td>\n",
       "      <td>0.663371</td>\n",
       "      <td>1.042635</td>\n",
       "      <td>0.369866</td>\n",
       "      <td>0.303677</td>\n",
       "      <td>0.154106</td>\n",
       "      <td>0.057271</td>\n",
       "      <td>1.591291</td>\n",
       "    </tr>\n",
       "    <tr>\n",
       "      <th>50%</th>\n",
       "      <td>5.279000</td>\n",
       "      <td>1.064578</td>\n",
       "      <td>1.253918</td>\n",
       "      <td>0.606042</td>\n",
       "      <td>0.437454</td>\n",
       "      <td>0.231538</td>\n",
       "      <td>0.089848</td>\n",
       "      <td>1.832910</td>\n",
       "    </tr>\n",
       "    <tr>\n",
       "      <th>75%</th>\n",
       "      <td>6.101500</td>\n",
       "      <td>1.318027</td>\n",
       "      <td>1.414316</td>\n",
       "      <td>0.723008</td>\n",
       "      <td>0.516561</td>\n",
       "      <td>0.323762</td>\n",
       "      <td>0.153296</td>\n",
       "      <td>2.144654</td>\n",
       "    </tr>\n",
       "    <tr>\n",
       "      <th>max</th>\n",
       "      <td>7.537000</td>\n",
       "      <td>1.870766</td>\n",
       "      <td>1.610574</td>\n",
       "      <td>0.949492</td>\n",
       "      <td>0.658249</td>\n",
       "      <td>0.838075</td>\n",
       "      <td>0.464308</td>\n",
       "      <td>3.117485</td>\n",
       "    </tr>\n",
       "  </tbody>\n",
       "</table>\n",
       "</div>"
      ],
      "text/plain": [
       "       Happiness.Score  Economy..GDP.per.Capita.      Family  \\\n",
       "count       155.000000                155.000000  155.000000   \n",
       "mean          5.354019                  0.984718    1.188898   \n",
       "std           1.131230                  0.420793    0.287263   \n",
       "min           2.693000                  0.000000    0.000000   \n",
       "25%           4.505500                  0.663371    1.042635   \n",
       "50%           5.279000                  1.064578    1.253918   \n",
       "75%           6.101500                  1.318027    1.414316   \n",
       "max           7.537000                  1.870766    1.610574   \n",
       "\n",
       "       Health..Life.Expectancy.     Freedom  Generosity  \\\n",
       "count                155.000000  155.000000  155.000000   \n",
       "mean                   0.551341    0.408786    0.246883   \n",
       "std                    0.237073    0.149997    0.134780   \n",
       "min                    0.000000    0.000000    0.000000   \n",
       "25%                    0.369866    0.303677    0.154106   \n",
       "50%                    0.606042    0.437454    0.231538   \n",
       "75%                    0.723008    0.516561    0.323762   \n",
       "max                    0.949492    0.658249    0.838075   \n",
       "\n",
       "       Trust..Government.Corruption.  Dystopia.Residual  \n",
       "count                     155.000000         155.000000  \n",
       "mean                        0.123120           1.850238  \n",
       "std                         0.101661           0.500028  \n",
       "min                         0.000000           0.377914  \n",
       "25%                         0.057271           1.591291  \n",
       "50%                         0.089848           1.832910  \n",
       "75%                         0.153296           2.144654  \n",
       "max                         0.464308           3.117485  "
      ]
     },
     "execution_count": 2,
     "metadata": {},
     "output_type": "execute_result"
    }
   ],
   "source": [
    "# A vous\n",
    "\n",
    "columns = ['Happiness.Rank','Whisker.high','Whisker.low']\n",
    "Clean = donnees.drop(columns,axis=1)\n",
    "Clean.describe()\n",
    "\n"
   ]
  },
  {
   "cell_type": "markdown",
   "metadata": {
    "colab_type": "text",
    "id": "dUCki_d6fOej"
   },
   "source": [
    "On commence par regarder les corrélations entre les 8 attributs restants et le score de bonheur :"
   ]
  },
  {
   "cell_type": "code",
   "execution_count": 3,
   "metadata": {
    "colab": {
     "base_uri": "https://localhost:8080/",
     "height": 552
    },
    "colab_type": "code",
    "id": "eScL6OpJfOel",
    "outputId": "d2fa823c-4d07-4950-e70a-76cad59f6962"
   },
   "outputs": [
    {
     "data": {
      "text/plain": [
       "([<matplotlib.axis.YTick at 0x7f7172c1a9a0>,\n",
       "  <matplotlib.axis.YTick at 0x7f7172c1a580>,\n",
       "  <matplotlib.axis.YTick at 0x7f7172bf4bb0>,\n",
       "  <matplotlib.axis.YTick at 0x7f7172bdf370>,\n",
       "  <matplotlib.axis.YTick at 0x7f7172bdfa30>,\n",
       "  <matplotlib.axis.YTick at 0x7f7172bdff40>,\n",
       "  <matplotlib.axis.YTick at 0x7f7172be5490>,\n",
       "  <matplotlib.axis.YTick at 0x7f7172be59a0>],\n",
       " [Text(0, 0, 'Happiness.Score'),\n",
       "  Text(0, 1, 'Economy..GDP.per.Capita.'),\n",
       "  Text(0, 2, 'Family'),\n",
       "  Text(0, 3, 'Health..Life.Expectancy.'),\n",
       "  Text(0, 4, 'Freedom'),\n",
       "  Text(0, 5, 'Generosity'),\n",
       "  Text(0, 6, 'Trust..Government.Corruption.'),\n",
       "  Text(0, 7, 'Dystopia.Residual')])"
      ]
     },
     "execution_count": 3,
     "metadata": {},
     "output_type": "execute_result"
    },
    {
     "data": {
      "image/png": "[encoded data removed]",
      "text/plain": [
       "<Figure size 288x288 with 1 Axes>"
      ]
     },
     "metadata": {
      "needs_background": "light"
     },
     "output_type": "display_data"
    }
   ],
   "source": [
    "cor = Clean.corr() # calcul de la matrice de correlation \n",
    "\n",
    "\n",
    "import matplotlib.pyplot as plt\n",
    "%matplotlib inline\n",
    "\n",
    "plt.matshow(cor)\n",
    "plt.xticks(range(len(cor.columns)), cor.columns, rotation=90)\n",
    "plt.yticks(range(len(cor.columns)), cor.columns)\n"
   ]
  },
  {
   "cell_type": "markdown",
   "metadata": {
    "colab_type": "text",
    "id": "QcwQj49WfOew"
   },
   "source": [
    "**Question** Quelles sont les colonnes les plus corrélées ? Quelle(s) colonne(s)semble(nt) le(s) plus corrélée(s) au score de bonheur ? Quelle(s) est/sont celle(s) qui le sont le moins ?"
   ]
  },
  {
   "cell_type": "markdown",
   "metadata": {},
   "source": [
    "## Associer des étiquettes à des intervalles de bonheur\n",
    "\n",
    "Si nous séparions le happiness score en quatre percentiles, nous pourrions attribuer une étiquette àchaque pays correspondant à ce happiness score ('très malheureux', 'malheureux', 'heureux' et 'très heureux' donc sur une échelle de 1 à 4 (ou de 0 à 3...).\n",
    "\n",
    "Calculer les 4 percentiles sur la base de toutes les données, créer un dictionnaire qui, à chaque percentile, associe son intitulé : appelons cela des classes de bonheur. Créer et calculer, enfin, un vecteur ``B1'' de taille le nombre de données (pays = lignes), qui indique pour chaque pays le numéro de sa classe en fonction de son appartenance au percentile associé, en fonction donc de son score de happiness."
   ]
  },
  {
   "cell_type": "code",
   "execution_count": 4,
   "metadata": {},
   "outputs": [],
   "source": [
    "# a vous"
   ]
  },
  {
   "cell_type": "markdown",
   "metadata": {},
   "source": [
    "Représenter, sous forme graphique de votre choix (réflechissez avant de coder !), l'attribution des classes aux pays."
   ]
  },
  {
   "cell_type": "code",
   "execution_count": 5,
   "metadata": {},
   "outputs": [],
   "source": [
    "# a vous"
   ]
  },
  {
   "cell_type": "markdown",
   "metadata": {
    "colab_type": "text",
    "id": "gglUPZHtfOfZ"
   },
   "source": [
    "## Clustering (partie à rendre, jusqu'à stabilité)\n",
    "\n",
    "Nous cherchons maintenant à voir si, étant données les colonnes (variables) disponibles, mais sans le score de bonheur (happiness score) dans l'apprentissage, nous pouvons approcher la classification faite et visualisée ci-avant sur la base du happiness score. Autrement dit, nous cherchons à vérifier dans quelle mesure ce score de bonheur est issu des autres variables observées. Pour cela, nous allons utiliser l'algorithme de classification non-supervisée, $k$-moyennes, qui ne considérera pas du tout le score de bonheur (puisque d'une certaine manière c'est ce que nous cherchons à retrouver).\n",
    "\n",
    "En scikit-learn, l'algorithme des kmeans est géré par la classe *sklearn.cluster.KMeans* dont la [documentation](https://scikit-learn.org/stable/modules/generated/sklearn.cluster.KMeans.html) peu s'avérer très utile.\n",
    "\n",
    "**Question.**\n",
    "1. Stocker dans une variable *X* les 7 attributs descriptifs (on enlève Happiness Score que nous allons essayer de retrouver à l'intérieur des clusters)\n",
    "2. Réaliser un clustering à l'aide de l'algorithme des k-means sur l'ensemble de ces données, avec un *k* raisonable.\n",
    "3. Représenter visuellement l'attribution de chaque classe à chaque pays.\n",
    "4. Au regard de l'objectif présenté, analyser et comparer **visuellement** le résultat précédent qui était basé uniquement sur les percentiles liés à l'indice de bonheur (*Happiness.Score*) qui n'a pas servi au clustering. "
   ]
  },
  {
   "cell_type": "code",
   "execution_count": 243,
   "metadata": {},
   "outputs": [
    {
     "name": "stdout",
     "output_type": "stream",
     "text": [
      "[2 2 2 2 2 2 2 2 2 2 0 0 2 2 2 2 2 2 2 0 2 0 2 0 0 1 2 2 0 2 2 2 2 2 1 0 2\n",
      " 2 2 2 2 2 0 0 0 2 2 2 2 0 1 2 0 2 2 0 2 0 2 2 2 1 2 2 2 1 2 2 2 2 1 2 2 2\n",
      " 2 1 2 2 2 0 1 2 2 0 2 1 2 2 1 2 3 1 0 1 0 3 1 1 3 1 1 2 3 1 1 0 3 1 1 3 1\n",
      " 3 3 1 3 3 1 1 3 1 1 3 3 3 1 3 3 3 1 3 3 1 3 3 3 3 3 3 3 3 3 1 3 3 3 3 3 3\n",
      " 3 3 1 1 1 3 3]\n"
     ]
    },
    {
     "data": {
      "image/png": "[encoded data removed]",
      "text/plain": [
       "<Figure size 720x432 with 2 Axes>"
      ]
     },
     "metadata": {
      "needs_background": "light"
     },
     "output_type": "display_data"
    }
   ],
   "source": [
    "# A vous\n",
    "\n",
    "from sklearn.cluster import KMeans\n",
    "from sklearn import decomposition\n",
    "import numpy as np\n",
    "\n",
    "column = ['Happiness.Score','Country']\n",
    "X = Clean.drop(column, axis =1)\n",
    "\n",
    "X.describe()\n",
    "\n",
    "\n",
    "kmeans = KMeans(n_clusters=4).fit(X)\n",
    "predictions= kmeans.predict(X)\n",
    "print(kmeans.labels_)\n",
    "\n",
    "\n",
    "pca= decomposition.PCA(2)\n",
    "nouvelles_donnees = pca.fit_transform(X)\n",
    "plt.figure(figsize=(10,6))\n",
    "plt.scatter(nouvelles_donnees[:, 0], nouvelles_donnees[:, 1], c=predictions, edgecolor = 'black', alpha = 0.5, cmap=plt.cm.get_cmap('flag',100000))\n",
    "plt.xlabel('composante 1')\n",
    "plt.ylabel('composante 2')\n",
    "plt.colorbar();\n",
    "\n",
    "\n",
    "\n",
    "\n"
   ]
  },
  {
   "cell_type": "markdown",
   "metadata": {
    "colab_type": "text",
    "id": "_gmRkFrTMo2s"
   },
   "source": [
    "### Evaluation de la qualité\n",
    "\n",
    "Pour évaluer **quantitativement** la qualité d'un clustering, l'analyse **visuelle** précédente ne suffit plus : nous devons quantifier la qualité du clustering en se basant sur des mesures adéqautes. \n",
    "\n",
    "Q1.  Nous savons (depuis le cours) que nous devons regarder les distances intra-classes et inter-classes. Mais avant de faire cela, nous ne pouvons  pas nous empêcher de regarder en détail ce que donne notre clustering à l'aide de la partie supervisée des données (avouez que ce serait dommage, non ? C'est déjà ce que nous avions abordé avec nos percentiles sur l'indice du bonheur, maintenant nous allons nous basé sur le rang de bonheur !).\n",
    "\n",
    "L'idée est donc la suivante : puisque l'on connaît le classement de chaque pays (colonne *Happiness.rank* initialement présente dans les données), on peut regarder pays par pays et regarder combien sont dans la bonne classe (ou dans la mauvaise). On va considérer qu'un pays est dans la bonne classe si le précédent dans le classement et le suivant sont **tous les deux** dans la même classe que lui ; il est dans la mauvaise classe sinon."
   ]
  },
  {
   "cell_type": "code",
   "execution_count": 274,
   "metadata": {
    "colab": {},
    "colab_type": "code",
    "id": "sFmpLYU7SiVi"
   },
   "outputs": [
    {
     "name": "stdout",
     "output_type": "stream",
     "text": [
      "Il y a  48  pays bien classés\n"
     ]
    }
   ],
   "source": [
    "# A vous\n",
    "\n",
    "Column = donnees['Happiness.Rank']\n",
    "index_mal_classes=[]\n",
    "\n",
    "#parcourir column et regarder si pour l'indice i si l'indice i-1 et i+1 sont dans le meme cluster\n",
    "count= 0\n",
    "#pour le premier élément\n",
    "if(predictions[0]==predictions[1]):\n",
    "    count +=1\n",
    "else:\n",
    "    index_mal_classes.append(0)\n",
    "#pour le dernier élément\n",
    "if(predictions[len(new_Column)-1]==predictions[len(new_Column)-2]):\n",
    "    count +=1\n",
    "else:\n",
    "    index_mal_classes.append(154)\n",
    "for i in range (1,len(new_Column)-1):\n",
    "    if(predictions[i]==predictions[i-1] and predictions[i]==predictions[i+1]):\n",
    "        count+=1\n",
    "    else:\n",
    "        index_mal_classes.append(i)\n",
    "print(\"Il y a \",count, \" pays bien classés\")\n"
   ]
  },
  {
   "cell_type": "markdown",
   "metadata": {
    "colab_type": "text",
    "id": "iq1RmzK2ViDY"
   },
   "source": [
    "Q2. Cette façon de faire n'est toutefois pas satisfaisante : d'abord elle repose sur l'utilisation d'une information \"supervisée\" ce qui n'est pas possible normalement~; ensuite parce que nous ne savons pas comment le score est calculé : les différents critères sont sans doute pondérés pour l'obtenir. \n",
    "\n",
    "L'idée ici est de regarder dans un premier temps la distance moyenne des éléments dans chacun des clusters (calcul de l'homogénéité de chaque cluster -- appelée aussi intra-classes). En déduire l'homogénéité moyenne du clustering obtenu. "
   ]
  },
  {
   "cell_type": "code",
   "execution_count": 245,
   "metadata": {
    "colab": {},
    "colab_type": "code",
    "id": "TJ6zJopvcUCu"
   },
   "outputs": [
    {
     "name": "stdout",
     "output_type": "stream",
     "text": [
      "0.5407192235725166 0.6530064179264612 0.43195300600283837 0.4629482885854278\n"
     ]
    }
   ],
   "source": [
    "# A vous\n",
    "\n",
    "index_ofC1= []\n",
    "index_ofC2= []\n",
    "index_ofC3= []\n",
    "index_ofC4= []\n",
    "#index_ofC5= []\n",
    "for i in range(len(predictions)):\n",
    "    if(predictions[i]==0):\n",
    "        index_ofC1.append(i)\n",
    "    if(predictions[i]==1):\n",
    "        index_ofC2.append(i)\n",
    "    if(predictions[i]==2):\n",
    "        index_ofC3.append(i)\n",
    "    if(predictions[i]==3):\n",
    "        index_ofC4.append(i)\n",
    "#    if(predictions[i]==4):\n",
    "#        index_ofC5.append(i)\n",
    "        \n",
    "distance_1=[]  \n",
    "distance_2=[]\n",
    "distance_3=[]\n",
    "distance_4=[]\n",
    "#distance_5=[]\n",
    "for i in range(len(index_ofC1)):\n",
    "    for j in range(i,len(index_ofC1)):\n",
    "        if(j!=i):\n",
    "            distance_1.append(np.sqrt((nouvelles_donnees[index_ofC1[j]][0]-nouvelles_donnees[index_ofC1[i]][0])**2+(nouvelles_donnees[index_ofC1[j]][1]-nouvelles_donnees[index_ofC1[i]][1])**2))\n",
    "\n",
    "for i in range(len(index_ofC2)):\n",
    "    for j in range(i,len(index_ofC2)):\n",
    "        if(j!=i):\n",
    "            distance_2.append(np.sqrt((nouvelles_donnees[index_ofC2[j]][0]-nouvelles_donnees[index_ofC2[i]][0])**2+(nouvelles_donnees[index_ofC2[j]][1]-nouvelles_donnees[index_ofC2[i]][1])**2))\n",
    "\n",
    "for i in range(len(index_ofC3)):\n",
    "    for j in range(i,len(index_ofC3)):\n",
    "        if(j!=i):\n",
    "            distance_3.append(np.sqrt((nouvelles_donnees[index_ofC3[j]][0]-nouvelles_donnees[index_ofC3[i]][0])**2+(nouvelles_donnees[index_ofC3[j]][1]-nouvelles_donnees[index_ofC3[i]][1])**2))\n",
    "\n",
    "for i in range(len(index_ofC4)):\n",
    "    for j in range(i,len(index_ofC4)):\n",
    "        if(j!=i):\n",
    "            distance_4.append(np.sqrt((nouvelles_donnees[index_ofC4[j]][0]-nouvelles_donnees[index_ofC4[i]][0])**2+(nouvelles_donnees[index_ofC4[j]][1]-nouvelles_donnees[index_ofC4[i]][1])**2))\n",
    "#for i in range(len(index_ofC5)):\n",
    " #   for j in range(i,len(index_ofC5)):\n",
    "  #      if(j!=i):\n",
    "   #         distance_5.append(np.sqrt((nouvelles_donnees[index_ofC5[j]][0]-nouvelles_donnees[index_ofC5[i]][0])**2+(nouvelles_donnees[index_ofC5[j]][1]-nouvelles_donnees[index_ofC5[i]][1])**2))\n",
    "\n",
    "def moyenne(l):\n",
    "    somme=0\n",
    "    for i in range(len(l)):\n",
    "        somme +=l[i]\n",
    "    return somme/len(l)\n",
    "#d_meani = moyenne des distances du i-ème cluster\n",
    "d_mean1= moyenne(distance_1)\n",
    "d_mean2= moyenne(distance_2)\n",
    "d_mean3= moyenne(distance_3)\n",
    "d_mean4= moyenne(distance_4)\n",
    "#d_mean5=moyenne(distance_5)\n",
    "print(d_mean1,d_mean2,d_mean3,d_mean4)\n",
    "\n",
    "#l'homogénéité est bonne caril n'ya pas beaucoup d'écarts entre les moyennes des distances"
   ]
  },
  {
   "cell_type": "markdown",
   "metadata": {
    "colab_type": "text",
    "id": "Om7H0yRecbPn"
   },
   "source": [
    "Q3. Il faut maintenant calculer la distance entre cluster (séparabilité). Pour cela, une façon de faire est de calculer le barycentre de chacun des cluster, puis de calculer la distance entre chacun de ces centre de gravité deux par deux. Il est possible que vous trouviez dans la documentation une façon de récupérer les coordonnées des barycentre directement à partir du classifieur (on dit ça, on dit rien). Calculer ainsi la séparabilité entre chaque couple de cluster, et terminer par le score global de séparabilité du clustering."
   ]
  },
  {
   "cell_type": "code",
   "execution_count": 246,
   "metadata": {
    "colab": {},
    "colab_type": "code",
    "id": "4sl2XW1hcqZB",
    "scrolled": true
   },
   "outputs": [
    {
     "name": "stdout",
     "output_type": "stream",
     "text": [
      "[1.4723818917124987, 0.8537277812701305, 1.0493426421461582, 0.8314943723123441, 0.9464533482881994, 1.079672633954206]\n",
      "le score global de séparabilité du clustering  0.29400994040930944\n"
     ]
    }
   ],
   "source": [
    "# A vous\n",
    "from sklearn.metrics import silhouette_score\n",
    "\n",
    "cluster_centers = kmeans.cluster_centers_\n",
    "\n",
    "#distances= liste des séparabilités entre les différents clusters dansl'ordre. ie distance entre le 1er cluster et les 3 autres ensuite le 2è avec les autres etc\n",
    "\n",
    "distances= []\n",
    "\n",
    "for i in range(len(cluster_centers)):\n",
    "    for j in range(i+1, len(cluster_centers)):\n",
    "        somme =0\n",
    "        for k in range(7):\n",
    "            somme +=(abs(cluster_centers[j][k]-cluster_centers[i][k])**2)\n",
    "        distances.append(np.sqrt(somme))\n",
    "print(distances)\n",
    "\n",
    "#score globale de séparabilité\n",
    "separabilite= silhouette_score(X,predictions)\n",
    "print(\"le score global de séparabilité du clustering \",separabilite)"
   ]
  },
  {
   "cell_type": "markdown",
   "metadata": {},
   "source": [
    "Q4. Calculer maintenant le score de silhouette de chaque donnée de l'échantillon. Quelle est la proportion de silhouettes négatives ? Qu'est-ce que cela signifie ?"
   ]
  },
  {
   "cell_type": "code",
   "execution_count": 247,
   "metadata": {},
   "outputs": [
    {
     "name": "stdout",
     "output_type": "stream",
     "text": [
      "les silhouettes négatives sont  10  sur 155\n"
     ]
    }
   ],
   "source": [
    "# A vous\n",
    "from sklearn.metrics import silhouette_samples\n",
    "score= silhouette_samples(X,predictions)\n",
    "count =0\n",
    "for i in range (len(score)):\n",
    "    if(score[i]<0):\n",
    "        count +=1\n",
    "print(\"les silhouettes négatives sont \",count, \" sur 155\")"
   ]
  },
  {
   "cell_type": "markdown",
   "metadata": {},
   "source": [
    "Q5. Refaire les Q2, Q3 et Q4 pour d'autres valeurs de $k$ (par exemple $k=2, 5, 10$) : Quel $k$ vous semble meilleur ?"
   ]
  },
  {
   "cell_type": "code",
   "execution_count": 248,
   "metadata": {},
   "outputs": [
    {
     "name": "stdout",
     "output_type": "stream",
     "text": [
      "le meilleur k est 5\n"
     ]
    }
   ],
   "source": [
    "# A vous\n",
    "\n",
    "print( \"le meilleur k est 5\")"
   ]
  },
  {
   "cell_type": "markdown",
   "metadata": {
    "colab_type": "text",
    "id": "bC8HOj7mcsjH"
   },
   "source": [
    "Q6. Finalement, nous pouvons regarder chacun des pays que nous avions noté comme \"mal classé\" en Q1, et regarder leur distance avec chacun des barycentres. Est-ce que ces pays se trouve à une distance presque égale à 2 (ou plus) barycentre ? Qu'est-ce que cela nous apprend sur la façon de calculer le score de bonheur ?"
   ]
  },
  {
   "cell_type": "code",
   "execution_count": 275,
   "metadata": {
    "colab": {},
    "colab_type": "code",
    "id": "MhItesSadUA5"
   },
   "outputs": [
    {
     "name": "stdout",
     "output_type": "stream",
     "text": [
      "[1.0191242913836798, 1.1109656136213988, 0.4297776895370322, 1.4173320771506595, 1.0191242913836798, 1.1109656136213988, 0.4297776895370322, 1.4173320771506595, 1.0191242913836798, 1.1109656136213988, 0.4297776895370322, 1.4173320771506595, 1.0191242913836798, 1.1109656136213988, 0.4297776895370322, 1.4173320771506595, 0.6173704865593245, 1.6709016238174184, 0.8679103511098515, 1.5487279099346254, 0.6173704865593245, 1.6709016238174184, 0.8679103511098515, 1.5487279099346254, 0.6173704865593245, 1.6709016238174184, 0.8679103511098515, 1.5487279099346254, 0.6173704865593245, 1.6709016238174184, 0.8679103511098515, 1.5487279099346254, 0.4703644907165104, 1.7331436401950633, 0.97820059719573, 1.479149463724401, 0.4703644907165104, 1.7331436401950633, 0.97820059719573, 1.479149463724401, 0.4703644907165104, 1.7331436401950633, 0.97820059719573, 1.479149463724401, 0.4703644907165104, 1.7331436401950633, 0.97820059719573, 1.479149463724401, 0.9023654522550392, 1.1187022815085417, 0.3369379897167841, 1.3678706552966327, 0.9023654522550392, 1.1187022815085417, 0.3369379897167841, 1.3678706552966327, 0.9023654522550392, 1.1187022815085417, 0.3369379897167841, 1.3678706552966327, 0.9023654522550392, 1.1187022815085417, 0.3369379897167841, 1.3678706552966327, 1.2230823929724175, 0.8045540101242857, 0.4305078724889478, 1.3262277824936881, 1.2230823929724175, 0.8045540101242857, 0.4305078724889478, 1.3262277824936881, 1.2230823929724175, 0.8045540101242857, 0.4305078724889478, 1.3262277824936881, 1.2230823929724175, 0.8045540101242857, 0.4305078724889478, 1.3262277824936881, 0.5000854074070165, 1.355343806707586, 0.5868632004432035, 1.2609087502093361, 0.5000854074070165, 1.355343806707586, 0.5868632004432035, 1.2609087502093361, 0.5000854074070165, 1.355343806707586, 0.5868632004432035, 1.2609087502093361, 0.5000854074070165, 1.355343806707586, 0.5868632004432035, 1.2609087502093361, 1.2386287086051992, 0.865232566140449, 0.4811411856829474, 1.3713180724283254, 1.2386287086051992, 0.865232566140449, 0.4811411856829474, 1.3713180724283254, 1.2386287086051992, 0.865232566140449, 0.4811411856829474, 1.3713180724283254, 1.2386287086051992, 0.865232566140449, 0.4811411856829474, 1.3713180724283254, 0.34822957282934713, 1.5947819723260752, 0.8520289871779139, 1.3284513341258444, 0.34822957282934713, 1.5947819723260752, 0.8520289871779139, 1.3284513341258444, 0.34822957282934713, 1.5947819723260752, 0.8520289871779139, 1.3284513341258444, 0.34822957282934713, 1.5947819723260752, 0.8520289871779139, 1.3284513341258444, 0.6130000422947912, 1.3451023986925725, 0.5466757919502893, 1.3391932659243688, 0.6130000422947912, 1.3451023986925725, 0.5466757919502893, 1.3391932659243688, 0.6130000422947912, 1.3451023986925725, 0.5466757919502893, 1.3391932659243688, 0.6130000422947912, 1.3451023986925725, 0.5466757919502893, 1.3391932659243688, 0.43161925309261023, 1.4620194342735915, 0.6973227949172397, 1.303629072327628, 0.43161925309261023, 1.4620194342735915, 0.6973227949172397, 1.303629072327628, 0.43161925309261023, 1.4620194342735915, 0.6973227949172397, 1.303629072327628, 0.43161925309261023, 1.4620194342735915, 0.6973227949172397, 1.303629072327628, 0.35904596765532437, 1.6532600333365806, 0.9183149255043961, 1.3638006979475847, 0.35904596765532437, 1.6532600333365806, 0.9183149255043961, 1.3638006979475847, 0.35904596765532437, 1.6532600333365806, 0.9183149255043961, 1.3638006979475847, 0.35904596765532437, 1.6532600333365806, 0.9183149255043961, 1.3638006979475847, 1.7558208412698273, 0.8591697103311237, 0.9342279796479431, 1.6626310890144618, 1.7558208412698273, 0.8591697103311237, 0.9342279796479431, 1.6626310890144618, 1.7558208412698273, 0.8591697103311237, 0.9342279796479431, 1.6626310890144618, 1.7558208412698273, 0.8591697103311237, 0.9342279796479431, 1.6626310890144618, 1.32549310895136, 0.7040083987358683, 0.5597715401965048, 1.3018386440908492, 1.32549310895136, 0.7040083987358683, 0.5597715401965048, 1.3018386440908492, 1.32549310895136, 0.7040083987358683, 0.5597715401965048, 1.3018386440908492, 1.32549310895136, 0.7040083987358683, 0.5597715401965048, 1.3018386440908492, 0.6743924704573959, 1.0426967921960195, 0.2861186176821031, 1.1211144662203736, 0.6743924704573959, 1.0426967921960195, 0.2861186176821031, 1.1211144662203736, 0.6743924704573959, 1.0426967921960195, 0.2861186176821031, 1.1211144662203736, 0.6743924704573959, 1.0426967921960195, 0.2861186176821031, 1.1211144662203736, 0.27449602059896894, 1.7066706698997063, 1.0592878458408315, 1.2621293253642676, 0.27449602059896894, 1.7066706698997063, 1.0592878458408315, 1.2621293253642676, 0.27449602059896894, 1.7066706698997063, 1.0592878458408315, 1.2621293253642676, 0.27449602059896894, 1.7066706698997063, 1.0592878458408315, 1.2621293253642676, 0.5611632185343598, 1.1576697815651267, 0.3848311331811754, 1.150289809424433, 0.5611632185343598, 1.1576697815651267, 0.3848311331811754, 1.150289809424433, 0.5611632185343598, 1.1576697815651267, 0.3848311331811754, 1.150289809424433, 0.5611632185343598, 1.1576697815651267, 0.3848311331811754, 1.150289809424433, 1.0090650087680293, 0.9392492838352992, 0.28284766696258967, 1.293177816220186, 1.0090650087680293, 0.9392492838352992, 0.28284766696258967, 1.293177816220186, 1.0090650087680293, 0.9392492838352992, 0.28284766696258967, 1.293177816220186, 1.0090650087680293, 0.9392492838352992, 0.28284766696258967, 1.293177816220186, 1.8549812610520449, 0.9313529998487095, 1.0486836007474947, 1.7319489168109596, 1.8549812610520449, 0.9313529998487095, 1.0486836007474947, 1.7319489168109596, 1.8549812610520449, 0.9313529998487095, 1.0486836007474947, 1.7319489168109596, 1.8549812610520449, 0.9313529998487095, 1.0486836007474947, 1.7319489168109596, 0.2984986080847598, 1.4417322535899153, 0.7272042004884509, 1.1910435303248956, 0.2984986080847598, 1.4417322535899153, 0.7272042004884509, 1.1910435303248956, 0.2984986080847598, 1.4417322535899153, 0.7272042004884509, 1.1910435303248956, 0.2984986080847598, 1.4417322535899153, 0.7272042004884509, 1.1910435303248956, 0.8935397533855992, 1.0234616944670003, 0.3326289422433976, 1.239327062306031, 0.8935397533855992, 1.0234616944670003, 0.3326289422433976, 1.239327062306031, 0.8935397533855992, 1.0234616944670003, 0.3326289422433976, 1.239327062306031, 0.8935397533855992, 1.0234616944670003, 0.3326289422433976, 1.239327062306031, 0.8049241614788454, 0.8669361835438112, 0.23071961114011197, 1.0233749444804092, 0.8049241614788454, 0.8669361835438112, 0.23071961114011197, 1.0233749444804092, 0.8049241614788454, 0.8669361835438112, 0.23071961114011197, 1.0233749444804092, 0.8049241614788454, 0.8669361835438112, 0.23071961114011197, 1.0233749444804092, 0.29219193782001607, 1.3521115867688138, 0.8027788820078803, 0.9444851218592818, 0.29219193782001607, 1.3521115867688138, 0.8027788820078803, 0.9444851218592818, 0.29219193782001607, 1.3521115867688138, 0.8027788820078803, 0.9444851218592818, 0.29219193782001607, 1.3521115867688138, 0.8027788820078803, 0.9444851218592818, 0.1484666481700798, 1.5314769474116081, 0.9006015486251747, 1.1181670533461816, 0.1484666481700798, 1.5314769474116081, 0.9006015486251747, 1.1181670533461816, 0.1484666481700798, 1.5314769474116081, 0.9006015486251747, 1.1181670533461816, 0.1484666481700798, 1.5314769474116081, 0.9006015486251747, 1.1181670533461816, 1.004272600939299, 0.73162924710163, 0.23164000788084485, 1.1094794703404878, 1.004272600939299, 0.73162924710163, 0.23164000788084485, 1.1094794703404878, 1.004272600939299, 0.73162924710163, 0.23164000788084485, 1.1094794703404878, 1.004272600939299, 0.73162924710163, 0.23164000788084485, 1.1094794703404878, 0.6829100047317032, 1.1038044259249635, 0.400023725003732, 1.1308209938496157, 0.6829100047317032, 1.1038044259249635, 0.400023725003732, 1.1308209938496157, 0.6829100047317032, 1.1038044259249635, 0.400023725003732, 1.1308209938496157, 0.6829100047317032, 1.1038044259249635, 0.400023725003732, 1.1308209938496157, 0.18592122546622009, 1.4514840851541444, 0.879672705711944, 0.9996394920728033, 0.18592122546622009, 1.4514840851541444, 0.879672705711944, 0.9996394920728033, 0.18592122546622009, 1.4514840851541444, 0.879672705711944, 0.9996394920728033, 0.18592122546622009, 1.4514840851541444, 0.879672705711944, 0.9996394920728033, 1.4758054032067223, 0.6177920275134056, 0.6554979032322445, 1.3733224012953373, 1.4758054032067223, 0.6177920275134056, 0.6554979032322445, 1.3733224012953373, 1.4758054032067223, 0.6177920275134056, 0.6554979032322445, 1.3733224012953373, 1.4758054032067223, 0.6177920275134056, 0.6554979032322445, 1.3733224012953373, 0.7313060108846628, 1.1596959641395093, 0.465282836146024, 1.197880797826881, 0.7313060108846628, 1.1596959641395093, 0.465282836146024, 1.197880797826881, 0.7313060108846628, 1.1596959641395093, 0.465282836146024, 1.197880797826881, 0.7313060108846628, 1.1596959641395093, 0.465282836146024, 1.197880797826881, 0.3332389777239277, 1.3977868645084395, 0.7442819145570315, 1.096620847147508, 0.3332389777239277, 1.3977868645084395, 0.7442819145570315, 1.096620847147508, 0.3332389777239277, 1.3977868645084395, 0.7442819145570315, 1.096620847147508, 0.3332389777239277, 1.3977868645084395, 0.7442819145570315, 1.096620847147508, 0.8065718713443021, 0.8735676681205924, 0.2001173936000326, 1.0394417799922913, 0.8065718713443021, 0.8735676681205924, 0.2001173936000326, 1.0394417799922913, 0.8065718713443021, 0.8735676681205924, 0.2001173936000326, 1.0394417799922913, 0.8065718713443021, 0.8735676681205924, 0.2001173936000326, 1.0394417799922913, 1.012447502185775, 0.8602985440402616, 0.3879656952470026, 1.1687372446266115, 1.012447502185775, 0.8602985440402616, 0.3879656952470026, 1.1687372446266115, 1.012447502185775, 0.8602985440402616, 0.3879656952470026, 1.1687372446266115, 1.012447502185775, 0.8602985440402616, 0.3879656952470026, 1.1687372446266115, 0.31960683729822975, 1.6526677802430725, 1.071369705329192, 1.1432095840325702, 0.31960683729822975, 1.6526677802430725, 1.071369705329192, 1.1432095840325702, 0.31960683729822975, 1.6526677802430725, 1.071369705329192, 1.1432095840325702, 0.31960683729822975, 1.6526677802430725, 1.071369705329192, 1.1432095840325702, 0.6105800787908577, 1.0168527347512144, 0.36956390340895473, 0.9970970532429108, 0.6105800787908577, 1.0168527347512144, 0.36956390340895473, 0.9970970532429108, 0.6105800787908577, 1.0168527347512144, 0.36956390340895473, 0.9970970532429108, 0.6105800787908577, 1.0168527347512144, 0.36956390340895473, 0.9970970532429108, 0.2821062292434499, 1.2729711096607272, 0.74399832264565, 0.8658997805411061, 0.2821062292434499, 1.2729711096607272, 0.74399832264565, 0.8658997805411061, 0.2821062292434499, 1.2729711096607272, 0.74399832264565, 0.8658997805411061, 0.2821062292434499, 1.2729711096607272, 0.74399832264565, 0.8658997805411061, 0.9375356153186626, 0.7401822641566765, 0.3853712715634515, 0.9323675015298396, 0.9375356153186626, 0.7401822641566765, 0.3853712715634515, 0.9323675015298396, 0.9375356153186626, 0.7401822641566765, 0.3853712715634515, 0.9323675015298396, 0.9375356153186626, 0.7401822641566765, 0.3853712715634515, 0.9323675015298396, 1.239257620235468, 0.5364536017515538, 0.46116992272615304, 1.1405914151641041, 1.239257620235468, 0.5364536017515538, 0.46116992272615304, 1.1405914151641041, 1.239257620235468, 0.5364536017515538, 0.46116992272615304, 1.1405914151641041, 1.239257620235468, 0.5364536017515538, 0.46116992272615304, 1.1405914151641041, 1.4757892234655527, 0.5055048485263856, 0.6732666326062532, 1.2952566394217442, 1.4757892234655527, 0.5055048485263856, 0.6732666326062532, 1.2952566394217442, 1.4757892234655527, 0.5055048485263856, 0.6732666326062532, 1.2952566394217442, 1.4757892234655527, 0.5055048485263856, 0.6732666326062532, 1.2952566394217442, 0.4953980353656423, 1.022139234909811, 0.4332700226540981, 0.8714236700742687, 0.4953980353656423, 1.022139234909811, 0.4332700226540981, 0.8714236700742687, 0.4953980353656423, 1.022139234909811, 0.4332700226540981, 0.8714236700742687, 0.4953980353656423, 1.022139234909811, 0.4332700226540981, 0.8714236700742687, 1.1836191018551983, 0.6050393428949106, 0.45243912612464665, 1.115975187094088, 1.1836191018551983, 0.6050393428949106, 0.45243912612464665, 1.115975187094088, 1.1836191018551983, 0.6050393428949106, 0.45243912612464665, 1.115975187094088, 1.1836191018551983, 0.6050393428949106, 0.45243912612464665, 1.115975187094088, 1.4194537342802682, 0.49604688017722887, 0.6282726756849742, 1.233724514824785, 1.4194537342802682, 0.49604688017722887, 0.6282726756849742, 1.233724514824785, 1.4194537342802682, 0.49604688017722887, 0.6282726756849742, 1.233724514824785, 1.4194537342802682, 0.49604688017722887, 0.6282726756849742, 1.233724514824785, 1.026200914563786, 0.6282993754805325, 0.34445977206830786, 0.9704558782947972, 1.026200914563786, 0.6282993754805325, 0.34445977206830786, 0.9704558782947972, 1.026200914563786, 0.6282993754805325, 0.34445977206830786, 0.9704558782947972, 1.026200914563786, 0.6282993754805325, 0.34445977206830786, 0.9704558782947972, 1.034762678428065, 0.5980452073303848, 0.5018819837971903, 0.8526680559595445, 1.034762678428065, 0.5980452073303848, 0.5018819837971903, 0.8526680559595445, 1.034762678428065, 0.5980452073303848, 0.5018819837971903, 0.8526680559595445, 1.034762678428065, 0.5980452073303848, 0.5018819837971903, 0.8526680559595445, 2.2608450318550593, 0.9319781113728415, 1.456786811293265, 1.8610993829863953, 2.2608450318550593, 0.9319781113728415, 1.456786811293265, 1.8610993829863953, 2.2608450318550593, 0.9319781113728415, 1.456786811293265, 1.8610993829863953, 2.2608450318550593, 0.9319781113728415, 1.456786811293265, 1.8610993829863953, 0.7191869658759947, 0.8222299514152568, 0.5409999848502454, 0.651472872010896, 0.7191869658759947, 0.8222299514152568, 0.5409999848502454, 0.651472872010896, 0.7191869658759947, 0.8222299514152568, 0.5409999848502454, 0.651472872010896, 0.7191869658759947, 0.8222299514152568, 0.5409999848502454, 0.651472872010896, 1.0850006918699877, 0.6915397192121273, 0.41583222437412326, 1.058786079243875, 1.0850006918699877, 0.6915397192121273, 0.41583222437412326, 1.058786079243875, 1.0850006918699877, 0.6915397192121273, 0.41583222437412326, 1.058786079243875, 1.0850006918699877, 0.6915397192121273, 0.41583222437412326, 1.058786079243875, 1.0764247749557168, 0.47756479949146097, 0.5224423833812292, 0.801150276218283, 1.0764247749557168, 0.47756479949146097, 0.5224423833812292, 0.801150276218283, 1.0764247749557168, 0.47756479949146097, 0.5224423833812292, 0.801150276218283, 1.0764247749557168, 0.47756479949146097, 0.5224423833812292, 0.801150276218283, 0.9298957384142633, 0.7483310789555963, 0.46715989512603834, 0.8930646891281561, 0.9298957384142633, 0.7483310789555963, 0.46715989512603834, 0.8930646891281561, 0.9298957384142633, 0.7483310789555963, 0.46715989512603834, 0.8930646891281561, 0.9298957384142633, 0.7483310789555963, 0.46715989512603834, 0.8930646891281561, 0.9600148615911738, 0.6466869716241705, 0.4372932852941261, 0.8734857099782931, 0.9600148615911738, 0.6466869716241705, 0.4372932852941261, 0.8734857099782931, 0.9600148615911738, 0.6466869716241705, 0.4372932852941261, 0.8734857099782931, 0.9600148615911738, 0.6466869716241705, 0.4372932852941261, 0.8734857099782931, 0.6144194502518624, 1.718740646712253, 1.2854002826019828, 1.0625591171988775, 0.6144194502518624, 1.718740646712253, 1.2854002826019828, 1.0625591171988775, 0.6144194502518624, 1.718740646712253, 1.2854002826019828, 1.0625591171988775, 0.6144194502518624, 1.718740646712253, 1.2854002826019828, 1.0625591171988775, 1.310602664844951, 0.4455634254092371, 0.7562108675816861, 0.8863312594266507, 1.310602664844951, 0.4455634254092371, 0.7562108675816861, 0.8863312594266507, 1.310602664844951, 0.4455634254092371, 0.7562108675816861, 0.8863312594266507, 1.310602664844951, 0.4455634254092371, 0.7562108675816861, 0.8863312594266507, 0.9909106866760232, 0.7366636096953266, 0.444869423705916, 0.9551980718499838, 0.9909106866760232, 0.7366636096953266, 0.444869423705916, 0.9551980718499838, 0.9909106866760232, 0.7366636096953266, 0.444869423705916, 0.9551980718499838, 0.9909106866760232, 0.7366636096953266, 0.444869423705916, 0.9551980718499838, 0.9986946332010768, 0.5994334220681309, 0.4120540507807762, 0.8615451276034926, 0.9986946332010768, 0.5994334220681309, 0.4120540507807762, 0.8615451276034926, 0.9986946332010768, 0.5994334220681309, 0.4120540507807762, 0.8615451276034926, 0.9986946332010768, 0.5994334220681309, 0.4120540507807762, 0.8615451276034926, 0.494892919741036, 1.3499929331821126, 0.9171236962747465, 0.8833260383576451, 0.494892919741036, 1.3499929331821126, 0.9171236962747465, 0.8833260383576451, 0.494892919741036, 1.3499929331821126, 0.9171236962747465, 0.8833260383576451, 0.494892919741036, 1.3499929331821126, 0.9171236962747465, 0.8833260383576451, 0.9548030926477489, 0.6234786090806539, 0.41978833710932917, 0.8262641258411424, 0.9548030926477489, 0.6234786090806539, 0.41978833710932917, 0.8262641258411424, 0.9548030926477489, 0.6234786090806539, 0.41978833710932917, 0.8262641258411424, 0.9548030926477489, 0.6234786090806539, 0.41978833710932917, 0.8262641258411424, 1.381034155349256, 0.29894711763009774, 0.6988181960187085, 1.0161955429899066, 1.381034155349256, 0.29894711763009774, 0.6988181960187085, 1.0161955429899066, 1.381034155349256, 0.29894711763009774, 0.6988181960187085, 1.0161955429899066, 1.381034155349256, 0.29894711763009774, 0.6988181960187085, 1.0161955429899066, 1.104415164979995, 0.7838773889214448, 0.513713787721702, 1.1053867183945698, 1.104415164979995, 0.7838773889214448, 0.513713787721702, 1.1053867183945698, 1.104415164979995, 0.7838773889214448, 0.513713787721702, 1.1053867183945698, 1.104415164979995, 0.7838773889214448, 0.513713787721702, 1.1053867183945698, 1.0187029788640212, 0.5469993677451315, 0.45849815016762513, 0.8227330263748235, 1.0187029788640212, 0.5469993677451315, 0.45849815016762513, 0.8227330263748235, 1.0187029788640212, 0.5469993677451315, 0.45849815016762513, 0.8227330263748235, 1.0187029788640212, 0.5469993677451315, 0.45849815016762513, 0.8227330263748235, 1.648462766145783, 0.4677678665546709, 0.8763248764237774, 1.338362029493471, 1.648462766145783, 0.4677678665546709, 0.8763248764237774, 1.338362029493471, 1.648462766145783, 0.4677678665546709, 0.8763248764237774, 1.338362029493471, 1.648462766145783, 0.4677678665546709, 0.8763248764237774, 1.338362029493471, 0.8479008174306143, 0.7591650903266403, 0.5272612758820171, 0.7334270516101709, 0.8479008174306143, 0.7591650903266403, 0.5272612758820171, 0.7334270516101709, 0.8479008174306143, 0.7591650903266403, 0.5272612758820171, 0.7334270516101709, 0.8479008174306143, 0.7591650903266403, 0.5272612758820171, 0.7334270516101709, 0.6337805624696469, 0.9218766414897402, 0.6466291602811073, 0.5481948173472803, 0.6337805624696469, 0.9218766414897402, 0.6466291602811073, 0.5481948173472803, 0.6337805624696469, 0.9218766414897402, 0.6466291602811073, 0.5481948173472803, 0.6337805624696469, 0.9218766414897402, 0.6466291602811073, 0.5481948173472803, 1.0721198477446123, 0.4410538832461349, 0.4685725445196473, 0.805109113990704, 1.0721198477446123, 0.4410538832461349, 0.4685725445196473, 0.805109113990704, 1.0721198477446123, 0.4410538832461349, 0.4685725445196473, 0.805109113990704, 1.0721198477446123, 0.4410538832461349, 0.4685725445196473, 0.805109113990704, 1.2042553863961856, 2.2747400925061405, 1.9492017879915315, 1.4387934311185517, 1.2042553863961856, 2.2747400925061405, 1.9492017879915315, 1.4387934311185517, 1.2042553863961856, 2.2747400925061405, 1.9492017879915315, 1.4387934311185517, 1.2042553863961856, 2.2747400925061405, 1.9492017879915315, 1.4387934311185517, 1.2262782207685037, 0.40577103728326075, 0.7314533268304195, 0.7649750208851489, 1.2262782207685037, 0.40577103728326075, 0.7314533268304195, 0.7649750208851489, 1.2262782207685037, 0.40577103728326075, 0.7314533268304195, 0.7649750208851489, 1.2262782207685037, 0.40577103728326075, 0.7314533268304195, 0.7649750208851489, 0.5892269368502276, 1.306950227405793, 0.9505606858443107, 0.7502815480496298, 0.5892269368502276, 1.306950227405793, 0.9505606858443107, 0.7502815480496298, 0.5892269368502276, 1.306950227405793, 0.9505606858443107, 0.7502815480496298, 0.5892269368502276, 1.306950227405793, 0.9505606858443107, 0.7502815480496298, 0.9087269991850849, 0.8307920787926893, 0.8103159644703227, 0.48443180063478697, 0.9087269991850849, 0.8307920787926893, 0.8103159644703227, 0.48443180063478697, 0.9087269991850849, 0.8307920787926893, 0.8103159644703227, 0.48443180063478697, 0.9087269991850849, 0.8307920787926893, 0.8103159644703227, 0.48443180063478697, 1.5608402232513747, 0.3264797334711609, 0.9671164364932008, 0.9857705153728826, 1.5608402232513747, 0.3264797334711609, 0.9671164364932008, 0.9857705153728826, 1.5608402232513747, 0.3264797334711609, 0.9671164364932008, 0.9857705153728826, 1.5608402232513747, 0.3264797334711609, 0.9671164364932008, 0.9857705153728826, 1.2117452928951542, 0.6173025872822757, 0.8611146755691179, 0.6864583360308973, 1.2117452928951542, 0.6173025872822757, 0.8611146755691179, 0.6864583360308973, 1.2117452928951542, 0.6173025872822757, 0.8611146755691179, 0.6864583360308973, 1.2117452928951542, 0.6173025872822757, 0.8611146755691179, 0.6864583360308973, 0.9045282391978708, 0.896578083008284, 0.8841973813945514, 0.42043024943439067, 0.9045282391978708, 0.896578083008284, 0.8841973813945514, 0.42043024943439067, 0.9045282391978708, 0.896578083008284, 0.8841973813945514, 0.42043024943439067, 0.9045282391978708, 0.896578083008284, 0.8841973813945514, 0.42043024943439067, 1.5968430952317512, 0.34824718523645987, 0.9218362031964243, 1.1247624778222425, 1.5968430952317512, 0.34824718523645987, 0.9218362031964243, 1.1247624778222425, 1.5968430952317512, 0.34824718523645987, 0.9218362031964243, 1.1247624778222425, 1.5968430952317512, 0.34824718523645987, 0.9218362031964243, 1.1247624778222425, 1.2365138382486482, 0.5648162425187616, 0.7418637327409919, 0.8484646639051109, 1.2365138382486482, 0.5648162425187616, 0.7418637327409919, 0.8484646639051109, 1.2365138382486482, 0.5648162425187616, 0.7418637327409919, 0.8484646639051109, 1.2365138382486482, 0.5648162425187616, 0.7418637327409919, 0.8484646639051109, 0.8715007327870182, 0.802273975519759, 0.6416779712813595, 0.6901959331620016, 0.8715007327870182, 0.802273975519759, 0.6416779712813595, 0.6901959331620016, 0.8715007327870182, 0.802273975519759, 0.6416779712813595, 0.6901959331620016, 0.8715007327870182, 0.802273975519759, 0.6416779712813595, 0.6901959331620016, 0.8338039034869076, 0.7846501095604074, 0.6861349492645923, 0.49587898837708727, 0.8338039034869076, 0.7846501095604074, 0.6861349492645923, 0.49587898837708727, 0.8338039034869076, 0.7846501095604074, 0.6861349492645923, 0.49587898837708727, 0.8338039034869076, 0.7846501095604074, 0.6861349492645923, 0.49587898837708727, 0.9988886079276204, 0.576241510248887, 0.6099768864584012, 0.6236609628855281, 0.9988886079276204, 0.576241510248887, 0.6099768864584012, 0.6236609628855281, 0.9988886079276204, 0.576241510248887, 0.6099768864584012, 0.6236609628855281, 0.9988886079276204, 0.576241510248887, 0.6099768864584012, 0.6236609628855281, 1.7261556859811162, 0.4444229787830727, 1.0024186579993382, 1.289500529606478, 1.7261556859811162, 0.4444229787830727, 1.0024186579993382, 1.289500529606478, 1.7261556859811162, 0.4444229787830727, 1.0024186579993382, 1.289500529606478, 1.7261556859811162, 0.4444229787830727, 1.0024186579993382, 1.289500529606478, 0.7969236973687017, 1.7260404786297394, 1.4299455360248148, 0.9038939906606076, 0.7969236973687017, 1.7260404786297394, 1.4299455360248148, 0.9038939906606076, 0.7969236973687017, 1.7260404786297394, 1.4299455360248148, 0.9038939906606076, 0.7969236973687017, 1.7260404786297394, 1.4299455360248148, 0.9038939906606076, 0.6723856233484555, 1.328352954705099, 1.0970949383613113, 0.5641422846239296, 0.6723856233484555, 1.328352954705099, 1.0970949383613113, 0.5641422846239296, 0.6723856233484555, 1.328352954705099, 1.0970949383613113, 0.5641422846239296, 0.6723856233484555, 1.328352954705099, 1.0970949383613113, 0.5641422846239296, 1.3127408442776676, 0.6145927451706641, 0.8499180340284608, 0.8967818493857088, 1.3127408442776676, 0.6145927451706641, 0.8499180340284608, 0.8967818493857088, 1.3127408442776676, 0.6145927451706641, 0.8499180340284608, 0.8967818493857088, 1.3127408442776676, 0.6145927451706641, 0.8499180340284608, 0.8967818493857088, 1.2547156160332187, 0.5124330376695477, 0.7985748551394861, 0.798857446773281, 1.2547156160332187, 0.5124330376695477, 0.7985748551394861, 0.798857446773281, 1.2547156160332187, 0.5124330376695477, 0.7985748551394861, 0.798857446773281, 1.2547156160332187, 0.5124330376695477, 0.7985748551394861, 0.798857446773281, 0.8819502705164891, 1.007127133278744, 0.9710945839791243, 0.4267429275306563, 0.8819502705164891, 1.007127133278744, 0.9710945839791243, 0.4267429275306563, 0.8819502705164891, 1.007127133278744, 0.9710945839791243, 0.4267429275306563, 0.8819502705164891, 1.007127133278744, 0.9710945839791243, 0.4267429275306563, 1.215454430245951, 0.44422332666952036, 0.7628364830817342, 0.6923359567680893, 1.215454430245951, 0.44422332666952036, 0.7628364830817342, 0.6923359567680893, 1.215454430245951, 0.44422332666952036, 0.7628364830817342, 0.6923359567680893, 1.215454430245951, 0.44422332666952036, 0.7628364830817342, 0.6923359567680893, 1.1275618509839855, 0.7385048577113252, 0.9652467757057602, 0.35345853025522883, 1.1275618509839855, 0.7385048577113252, 0.9652467757057602, 0.35345853025522883, 1.1275618509839855, 0.7385048577113252, 0.9652467757057602, 0.35345853025522883, 1.1275618509839855, 0.7385048577113252, 0.9652467757057602, 0.35345853025522883, 0.9247689879301418, 1.5158384753430627, 1.383155138016771, 0.641410113045614, 0.9247689879301418, 1.5158384753430627, 1.383155138016771, 0.641410113045614, 0.9247689879301418, 1.5158384753430627, 1.383155138016771, 0.641410113045614, 0.9247689879301418, 1.5158384753430627, 1.383155138016771, 0.641410113045614, 1.7696001629096827, 0.9035126615630875, 1.4431524945902123, 0.9800935375920156, 1.7696001629096827, 0.9035126615630875, 1.4431524945902123, 0.9800935375920156, 1.7696001629096827, 0.9035126615630875, 1.4431524945902123, 0.9800935375920156, 1.7696001629096827, 0.9035126615630875, 1.4431524945902123, 0.9800935375920156, 0.9847957897667912, 0.8312977848841128, 0.9151157653882884, 0.3199211202548008, 0.9847957897667912, 0.8312977848841128, 0.9151157653882884, 0.3199211202548008, 0.9847957897667912, 0.8312977848841128, 0.9151157653882884, 0.3199211202548008, 0.9847957897667912, 0.8312977848841128, 0.9151157653882884, 0.3199211202548008, 0.9442518368354933, 0.8292534215116423, 0.892614273535606, 0.252567652187796, 0.9442518368354933, 0.8292534215116423, 0.892614273535606, 0.252567652187796, 0.9442518368354933, 0.8292534215116423, 0.892614273535606, 0.252567652187796, 0.9442518368354933, 0.8292534215116423, 0.892614273535606, 0.252567652187796, 1.3839018846268554, 0.3019431241299746, 0.8134909505098542, 0.8542093877009541, 1.3839018846268554, 0.3019431241299746, 0.8134909505098542, 0.8542093877009541, 1.3839018846268554, 0.3019431241299746, 0.8134909505098542, 0.8542093877009541, 1.3839018846268554, 0.3019431241299746, 0.8134909505098542, 0.8542093877009541, 1.401224553786742, 0.40371536835774585, 0.8010787197849549, 0.94985839755244, 1.401224553786742, 0.40371536835774585, 0.8010787197849549, 0.94985839755244, 1.401224553786742, 0.40371536835774585, 0.8010787197849549, 0.94985839755244, 1.401224553786742, 0.40371536835774585, 0.8010787197849549, 0.94985839755244, 0.9463012877589182, 1.138882036625867, 1.1444945509055766, 0.29038603076717373, 0.9463012877589182, 1.138882036625867, 1.1444945509055766, 0.29038603076717373, 0.9463012877589182, 1.138882036625867, 1.1444945509055766, 0.29038603076717373, 0.9463012877589182, 1.138882036625867, 1.1444945509055766, 0.29038603076717373, 2.27324057508443, 0.8291548166794249, 1.591713239555819, 1.6196783226170481, 2.27324057508443, 0.8291548166794249, 1.591713239555819, 1.6196783226170481, 2.27324057508443, 0.8291548166794249, 1.591713239555819, 1.6196783226170481, 2.27324057508443, 0.8291548166794249, 1.591713239555819, 1.6196783226170481, 1.1926696835160941, 0.5002977546014956, 0.7633561015737673, 0.691132115160704, 1.1926696835160941, 0.5002977546014956, 0.7633561015737673, 0.691132115160704, 1.1926696835160941, 0.5002977546014956, 0.7633561015737673, 0.691132115160704, 1.1926696835160941, 0.5002977546014956, 0.7633561015737673, 0.691132115160704, 1.2328363610747353, 0.5994720599938848, 0.94105635004578, 0.5347685741968131, 1.2328363610747353, 0.5994720599938848, 0.94105635004578, 0.5347685741968131, 1.2328363610747353, 0.5994720599938848, 0.94105635004578, 0.5347685741968131, 1.2328363610747353, 0.5994720599938848, 0.94105635004578, 0.5347685741968131, 1.0435343858635193, 0.7446225605478873, 0.8795556361648066, 0.41236256744940497, 1.0435343858635193, 0.7446225605478873, 0.8795556361648066, 0.41236256744940497, 1.0435343858635193, 0.7446225605478873, 0.8795556361648066, 0.41236256744940497, 1.0435343858635193, 0.7446225605478873, 0.8795556361648066, 0.41236256744940497, 1.3444455598345955, 0.7404606986384545, 1.012707875051498, 0.8193380752585794, 1.3444455598345955, 0.7404606986384545, 1.012707875051498, 0.8193380752585794, 1.3444455598345955, 0.7404606986384545, 1.012707875051498, 0.8193380752585794, 1.3444455598345955, 0.7404606986384545, 1.012707875051498, 0.8193380752585794, 1.0104273301852966, 1.4583934438188388, 1.3697259329820148, 0.6440277617120873, 1.0104273301852966, 1.4583934438188388, 1.3697259329820148, 0.6440277617120873, 1.0104273301852966, 1.4583934438188388, 1.3697259329820148, 0.6440277617120873, 1.0104273301852966, 1.4583934438188388, 1.3697259329820148, 0.6440277617120873, 1.0419399244211367, 0.9818075000546419, 1.0716812883661884, 0.29955644617599564, 1.0419399244211367, 0.9818075000546419, 1.0716812883661884, 0.29955644617599564, 1.0419399244211367, 0.9818075000546419, 1.0716812883661884, 0.29955644617599564, 1.0419399244211367, 0.9818075000546419, 1.0716812883661884, 0.29955644617599564, 1.6861385048306348, 0.5660582582596131, 1.2585591628558623, 0.8779802941334903, 1.6861385048306348, 0.5660582582596131, 1.2585591628558623, 0.8779802941334903, 1.6861385048306348, 0.5660582582596131, 1.2585591628558623, 0.8779802941334903, 1.6861385048306348, 0.5660582582596131, 1.2585591628558623, 0.8779802941334903, 1.1198028380307488, 0.8002464652905444, 0.9357395694660303, 0.4957223335420688, 1.1198028380307488, 0.8002464652905444, 0.9357395694660303, 0.4957223335420688, 1.1198028380307488, 0.8002464652905444, 0.9357395694660303, 0.4957223335420688, 1.1198028380307488, 0.8002464652905444, 0.9357395694660303, 0.4957223335420688, 1.1845478910921892, 0.6784960720587598, 0.9844524999459523, 0.34473501437906146, 1.1845478910921892, 0.6784960720587598, 0.9844524999459523, 0.34473501437906146, 1.1845478910921892, 0.6784960720587598, 0.9844524999459523, 0.34473501437906146, 1.1845478910921892, 0.6784960720587598, 0.9844524999459523, 0.34473501437906146, 1.8911925132639176, 0.5635552585845981, 1.2665896317856455, 1.2506818669289277, 1.8911925132639176, 0.5635552585845981, 1.2665896317856455, 1.2506818669289277, 1.8911925132639176, 0.5635552585845981, 1.2665896317856455, 1.2506818669289277, 1.8911925132639176, 0.5635552585845981, 1.2665896317856455, 1.2506818669289277, 1.302254313506411, 0.81905769703512, 1.1576127935610439, 0.40015891748918636, 1.302254313506411, 0.81905769703512, 1.1576127935610439, 0.40015891748918636, 1.302254313506411, 0.81905769703512, 1.1576127935610439, 0.40015891748918636, 1.302254313506411, 0.81905769703512, 1.1576127935610439, 0.40015891748918636, 1.061587536519014, 1.3879203870686627, 1.3655299571517303, 0.5330107043334965, 1.061587536519014, 1.3879203870686627, 1.3655299571517303, 0.5330107043334965, 1.061587536519014, 1.3879203870686627, 1.3655299571517303, 0.5330107043334965, 1.061587536519014, 1.3879203870686627, 1.3655299571517303, 0.5330107043334965, 2.3104542750803057, 0.8843504265560672, 1.6429662428488798, 1.6309754287812055, 2.3104542750803057, 0.8843504265560672, 1.6429662428488798, 1.6309754287812055, 2.3104542750803057, 0.8843504265560672, 1.6429662428488798, 1.6309754287812055, 2.3104542750803057, 0.8843504265560672, 1.6429662428488798, 1.6309754287812055, 1.2258147084579762, 1.2365619980139435, 1.371099289640407, 0.49885347038725775, 1.2258147084579762, 1.2365619980139435, 1.371099289640407, 0.49885347038725775, 1.2258147084579762, 1.2365619980139435, 1.371099289640407, 0.49885347038725775, 1.2258147084579762, 1.2365619980139435, 1.371099289640407, 0.49885347038725775, 1.303287867543787, 1.2691363667432627, 1.4471391197486538, 0.5078231513229076, 1.303287867543787, 1.2691363667432627, 1.4471391197486538, 0.5078231513229076, 1.303287867543787, 1.2691363667432627, 1.4471391197486538, 0.5078231513229076, 1.303287867543787, 1.2691363667432627, 1.4471391197486538, 0.5078231513229076, 2.2496227730165494, 1.0616631888646653, 1.816956168703385, 1.3527603637512458, 2.2496227730165494, 1.0616631888646653, 1.816956168703385, 1.3527603637512458, 2.2496227730165494, 1.0616631888646653, 1.816956168703385, 1.3527603637512458, 2.2496227730165494, 1.0616631888646653, 1.816956168703385, 1.3527603637512458, 2.1000888942454443, 0.8269017398895826, 1.6258232820173482, 1.2105766021613684, 2.1000888942454443, 0.8269017398895826, 1.6258232820173482, 1.2105766021613684, 2.1000888942454443, 0.8269017398895826, 1.6258232820173482, 1.2105766021613684, 2.1000888942454443, 0.8269017398895826, 1.6258232820173482, 1.2105766021613684, 1.4905999679009951, 1.3203866891859644, 1.5939387863438836, 0.5525235448063288, 1.4905999679009951, 1.3203866891859644, 1.5939387863438836, 0.5525235448063288, 1.4905999679009951, 1.3203866891859644, 1.5939387863438836, 0.5525235448063288, 1.4905999679009951, 1.3203866891859644, 1.5939387863438836, 0.5525235448063288]\n"
     ]
    }
   ],
   "source": [
    "# A vous\n",
    "distances= []\n",
    "\n",
    "for i in range(len(index_mal_classes)):\n",
    "    for j in range(len(cluster_centers)):\n",
    "        for l in range(4):\n",
    "            somme=0\n",
    "            for k in range(7):\n",
    "                somme +=(abs(X.loc[index_mal_classes[i]][k]-cluster_centers[l][k])**2)\n",
    "            distances.append(np.sqrt(somme))\n",
    "print(distances)\n",
    "\n",
    "#Il n'ya pas beaucoup de distances se rapprochant de 2(>1.5) "
   ]
  },
  {
   "cell_type": "markdown",
   "metadata": {},
   "source": [
    "### Etude de la stabilité\n",
    "\n",
    "Nous pouvons étudier la stabilité d'un algorithme de clustering pour un échantillon donné en observant la variation des mesures de qualité ci-avant, en fonction de la variation de l'échantillon et/ou de l'initialisation. Ici, nous proposons d'étudier cette stabilité en procédant comme suit:\n",
    "\n",
    "Répéter 20 fois (avec le meilleur $k$ trouvé précédemment):\n",
    "1. Prendre 80% de l'échantillon initial\n",
    "2. Lancer l'algorithmede clustering \n",
    "3. Calculer homogénéité $H$, séparabilité $S$, l'indice de Davis-Bouldin ($D_b$) et la proportion de silhouettes négatives ($F$)\n",
    "\n",
    "Puis, pour chaque mesure de qualité, un diagramme de Tukey indiquant médiane et quartiles. Conclure sur la stabilité des $k$-moyennes sur le clustering de cet échantillon."
   ]
  },
  {
   "cell_type": "code",
   "execution_count": 276,
   "metadata": {},
   "outputs": [],
   "source": [
    "# A vous\n"
   ]
  },
  {
   "cell_type": "markdown",
   "metadata": {},
   "source": [
    "__Pour les plus curieu-ses-x__\n",
    "\n",
    "Faire une recherche sur l'indice de Rand permettant de mesure la stabilité d'un algorithme de clustering, et appliquer cette technique à l'étude du clustering précédent. Indiquer la source de documentation retenue. Conclure au regard de la technique précédente."
   ]
  },
  {
   "cell_type": "code",
   "execution_count": 14,
   "metadata": {},
   "outputs": [],
   "source": [
    "# A vous"
   ]
  },
  {
   "cell_type": "markdown",
   "metadata": {},
   "source": [
    "## Conclusion\n",
    "\n",
    "L'indice de bonheur est-il plutôt fondé sur les autres variables descriptives, ou sur le rang de bonheur ? Dans le premier cas, que signifie ce \"rang\" dans les données ? Dans le second cas, comment score et rang de bonheur sont-ils corrélés ?"
   ]
  },
  {
   "cell_type": "code",
   "execution_count": 15,
   "metadata": {},
   "outputs": [],
   "source": [
    "# A vous : code et texte libre bienvenus"
   ]
  }
 ],
 "metadata": {
  "colab": {
   "collapsed_sections": [],
   "name": "Correction-TP4-ISD.ipynb",
   "provenance": [],
   "version": "0.3.2"
  },
  "kernelspec": {
   "display_name": "Python 3",
   "language": "python",
   "name": "python3"
  },
  "language_info": {
   "codemirror_mode": {
    "name": "ipython",
    "version": 3
   },
   "file_extension": ".py",
   "mimetype": "text/x-python",
   "name": "python",
   "nbconvert_exporter": "python",
   "pygments_lexer": "ipython3",
   "version": "3.8.10"
  }
 },
 "nbformat": 4,
 "nbformat_minor": 4
}
